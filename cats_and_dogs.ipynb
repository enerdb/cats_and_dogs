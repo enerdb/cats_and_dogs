{
  "nbformat": 4,
  "nbformat_minor": 0,
  "metadata": {
    "colab": {
      "name": "cats_and_dogs.ipynb",
      "provenance": [],
      "authorship_tag": "ABX9TyOssFHdZIgIxOi3SJfeAJpk",
      "include_colab_link": true
    },
    "kernelspec": {
      "name": "python3",
      "display_name": "Python 3"
    },
    "language_info": {
      "name": "python"
    }
  },
  "cells": [
    {
      "cell_type": "markdown",
      "metadata": {
        "id": "view-in-github",
        "colab_type": "text"
      },
      "source": [
        "<a href=\"https://colab.research.google.com/github/enerdb/cats_and_dogs/blob/main/cats_and_dogs.ipynb\" target=\"_parent\"><img src=\"https://colab.research.google.com/assets/colab-badge.svg\" alt=\"Open In Colab\"/></a>"
      ]
    },
    {
      "cell_type": "code",
      "metadata": {
        "colab": {
          "base_uri": "https://localhost:8080/"
        },
        "id": "hg9zSbFoXTlf",
        "outputId": "558bed5c-ab1b-4fb9-8583-6b7a4240199b"
      },
      "source": [
        "!wget https://storage.googleapis.com/mledu-datasets/cats_and_dogs_filtered.zip\n"
      ],
      "execution_count": 1,
      "outputs": [
        {
          "output_type": "stream",
          "name": "stdout",
          "text": [
            "--2021-09-20 18:01:08--  https://storage.googleapis.com/mledu-datasets/cats_and_dogs_filtered.zip\n",
            "Resolving storage.googleapis.com (storage.googleapis.com)... 172.217.193.128, 172.217.204.128, 172.217.203.128, ...\n",
            "Connecting to storage.googleapis.com (storage.googleapis.com)|172.217.193.128|:443... connected.\n",
            "HTTP request sent, awaiting response... 200 OK\n",
            "Length: 68606236 (65M) [application/zip]\n",
            "Saving to: ‘cats_and_dogs_filtered.zip’\n",
            "\n",
            "cats_and_dogs_filte 100%[===================>]  65.43M   150MB/s    in 0.4s    \n",
            "\n",
            "2021-09-20 18:01:09 (150 MB/s) - ‘cats_and_dogs_filtered.zip’ saved [68606236/68606236]\n",
            "\n"
          ]
        }
      ]
    },
    {
      "cell_type": "code",
      "metadata": {
        "id": "PvFaz8D7WPO1"
      },
      "source": [
        "!unzip cats_and_dogs_filtered.zip\n",
        "\n"
      ],
      "execution_count": null,
      "outputs": []
    },
    {
      "cell_type": "code",
      "metadata": {
        "id": "Pu-_PHZTXXeX"
      },
      "source": [
        "!rm -rf cats_and_dogs_filtered.zip"
      ],
      "execution_count": 6,
      "outputs": []
    },
    {
      "cell_type": "code",
      "metadata": {
        "id": "50jDe6U4Yjsm"
      },
      "source": [
        "!pip install tensorflow"
      ],
      "execution_count": null,
      "outputs": []
    },
    {
      "cell_type": "code",
      "metadata": {
        "id": "L1zqODPZYnEX"
      },
      "source": [
        "# os auxilia em tarefes no Sistema operacional\n",
        "import os\n",
        "# plotar imagens\n",
        "import matplotlib.pyplot as plt\n",
        "# implementação do modelo\n",
        "import tensorflow as tf\n"
      ],
      "execution_count": 9,
      "outputs": []
    },
    {
      "cell_type": "code",
      "metadata": {
        "colab": {
          "base_uri": "https://localhost:8080/"
        },
        "id": "wWBThF5xYtuN",
        "outputId": "d4452bb8-bc11-45da-9901-55299fc6daff"
      },
      "source": [
        "dataset_dir = os.path.join(os.getcwd(), 'cats_and_dogs_filtered')\n",
        "\n",
        "dataset_train_dir = os.path.join(dataset_dir, 'train')\n",
        "dataset_train_cats_len = len(os.listdir(os.path.join(dataset_train_dir, 'cats')))\n",
        "dataset_train_dogs_len = len(os.listdir(os.path.join(dataset_train_dir, 'dogs')))\n",
        "\n",
        "dataset_validation_dir = os.path.join(dataset_dir, 'validation')\n",
        "dataset_validation_cats_len = len(os.listdir(os.path.join(dataset_validation_dir, 'cats')))\n",
        "dataset_validation_dogs_len = len(os.listdir(os.path.join(dataset_validation_dir, 'dogs')))\n",
        "\n",
        "print('Train Cats: %s' % dataset_train_cats_len)\n",
        "print('Train Dogs: %s' % dataset_train_dogs_len)\n",
        "print('Validation Cats: %s' % dataset_validation_cats_len)\n",
        "print('Validation Dogs: %s' % dataset_validation_dogs_len)"
      ],
      "execution_count": 11,
      "outputs": [
        {
          "output_type": "stream",
          "name": "stdout",
          "text": [
            "Train Cats: 1000\n",
            "Train Dogs: 1000\n",
            "Validation Cats: 500\n",
            "Validation Dogs: 500\n"
          ]
        }
      ]
    },
    {
      "cell_type": "markdown",
      "metadata": {
        "id": "9GnIsKpyc-Rn"
      },
      "source": [
        "Preprocessing:\n",
        "\n",
        "Size: 160x160 (scaling)\n",
        "Value by color 0-255 RGB\n"
      ]
    },
    {
      "cell_type": "code",
      "metadata": {
        "id": "KtKl7ICBdA-_"
      },
      "source": [
        "image_width = 160\n",
        "image_height = 160\n",
        "image_color_channel = 3\n",
        "image_color_channel_size = 255\n",
        "image_size = (image_width, image_height)\n",
        "image_shape = image_size + (image_color_channel, )\n",
        "\n",
        "# number of features used per batch\n",
        "batch_size = 32 \n",
        "# number of times the dataset will participate n training\n",
        "epochs = 20\n",
        "# learning rate\n",
        "learning_rate = 0.0001\n",
        "\n",
        "class_names = ['cat', 'dog']"
      ],
      "execution_count": 12,
      "outputs": []
    },
    {
      "cell_type": "code",
      "metadata": {
        "colab": {
          "base_uri": "https://localhost:8080/"
        },
        "id": "VllfpfI9eY4F",
        "outputId": "3587b3d9-4a8a-4c2e-9181-d70f71f66992"
      },
      "source": [
        "dataset_train = tf.keras.preprocessing.image_dataset_from_directory(\n",
        "    dataset_train_dir,\n",
        "    image_size = image_size,\n",
        "    batch_size = batch_size,\n",
        "    shuffle = True\n",
        ")"
      ],
      "execution_count": 38,
      "outputs": [
        {
          "output_type": "stream",
          "name": "stdout",
          "text": [
            "Found 2000 files belonging to 2 classes.\n"
          ]
        }
      ]
    },
    {
      "cell_type": "code",
      "metadata": {
        "colab": {
          "base_uri": "https://localhost:8080/"
        },
        "id": "LrpfiOVQe6DZ",
        "outputId": "71a756e6-1773-46fb-8542-14eff5300809"
      },
      "source": [
        "dataset_validation_pre = tf.keras.preprocessing.image_dataset_from_directory(\n",
        "    dataset_validation_dir,\n",
        "    image_size = image_size,\n",
        "    batch_size = batch_size,\n",
        "    shuffle = True\n",
        ")"
      ],
      "execution_count": 34,
      "outputs": [
        {
          "output_type": "stream",
          "name": "stdout",
          "text": [
            "Found 1000 files belonging to 2 classes.\n"
          ]
        }
      ]
    },
    {
      "cell_type": "code",
      "metadata": {
        "colab": {
          "base_uri": "https://localhost:8080/"
        },
        "id": "LHDceNF3fIiQ",
        "outputId": "ef8ae833-852d-4172-cf4c-f120b8e13f50"
      },
      "source": [
        "dataset_validation_cardinality = tf.data.experimental.cardinality(dataset_validation_pre)\n",
        "dataset_validation_batches = dataset_validation_cardinality // 5\n",
        "\n",
        "dataset_test = dataset_validation_pre.take(dataset_validation_batches)\n",
        "dataset_validation = dataset_validation_pre.skip(dataset_validation_batches)\n",
        "\n",
        "print('Validation Dataset Cardinality: %d' % tf.data.experimental.cardinality(dataset_validation))\n",
        "print('Test Dataset Cardinality: %d' % tf.data.experimental.cardinality(dataset_test))\n",
        "\n"
      ],
      "execution_count": 37,
      "outputs": [
        {
          "output_type": "stream",
          "name": "stdout",
          "text": [
            "Validation Dataset Cardinality: 26\n",
            "Test Dataset Cardinality: 6\n"
          ]
        }
      ]
    },
    {
      "cell_type": "code",
      "metadata": {
        "id": "-5FGG2iUoPDl"
      },
      "source": [
        "def plot_dataset(dataset):\n",
        "\n",
        "  plt.gcf().clear()\n",
        "  plt.figure(figsize = (15,15))\n",
        "\n",
        "  for features, labels in dataset.take(1):\n",
        "      for i in range(9):\n",
        "    \n",
        "          plt.subplot(3, 3, i+1)\n",
        "          plt.axis('off')\n",
        "\n",
        "          plt.imshow(features[i].numpy().astype('uint8'))\n",
        "          plt.title(class_names[labels[i]])\n"
      ],
      "execution_count": 41,
      "outputs": []
    },
    {
      "cell_type": "code",
      "metadata": {
        "id": "x1eQe66yo3P8"
      },
      "source": [
        ""
      ],
      "execution_count": null,
      "outputs": []
    }
  ]
}